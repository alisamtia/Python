{
 "cells": [
  {
   "cell_type": "code",
   "execution_count": 11,
   "id": "01479722-8522-4c44-be2f-9264b376e89e",
   "metadata": {},
   "outputs": [],
   "source": [
    "import numpy as np\n",
    "import matplotlib.pyplot as plt\n",
    "%matplotlib inline"
   ]
  },
  {
   "cell_type": "code",
   "execution_count": 37,
   "id": "60928c41-884f-4037-9315-59ee1dec023d",
   "metadata": {},
   "outputs": [],
   "source": [
    "dataset=[11,10,12,14,12,15,14,13,15,10,12,10,102,12,14,17,19,107,10,13,12,14,12,108,12,11,14,13,15,12,10,14,13,15,10];"
   ]
  },
  {
   "cell_type": "code",
   "execution_count": 13,
   "id": "e6c4bb69-1812-4e9a-a5a9-de16eaf825f0",
   "metadata": {},
   "outputs": [
    {
     "data": {
      "image/png": "[encoded data removed]",
      "text/plain": [
       "<Figure size 640x480 with 1 Axes>"
      ]
     },
     "metadata": {},
     "output_type": "display_data"
    }
   ],
   "source": [
    "plt.hist(dataset);"
   ]
  },
  {
   "cell_type": "code",
   "execution_count": 74,
   "id": "d8af87e3-0227-47c9-852b-0af310c5d3c0",
   "metadata": {},
   "outputs": [],
   "source": [
    "# in-efficient way Z-Score \n",
    "def detect_Zscore_outliers(data):\n",
    "    treshold=3\n",
    "    mean=np.mean(data)\n",
    "    std=np.std(data)\n",
    "    outliers=[];\n",
    "\n",
    "    for i in data:\n",
    "        z_score=(i-mean)/std #diff from the mean\n",
    "        # print(str(z_score) + \": \" + str(i))\n",
    "\n",
    "        if np.abs(z_score)>treshold: # np.abs means it will convert any negative float or number to the positive number\n",
    "            outliers.append(i)\n",
    "    return outliers"
   ]
  },
  {
   "cell_type": "code",
   "execution_count": 75,
   "id": "ae6d2fc1-c2d3-4e29-9540-61f4bc33b17c",
   "metadata": {},
   "outputs": [
    {
     "data": {
      "text/plain": [
       "[102, 107, 108]"
      ]
     },
     "execution_count": 75,
     "metadata": {},
     "output_type": "execute_result"
    }
   ],
   "source": [
    "detect_Zscore_outliers(dataset)"
   ]
  },
  {
   "cell_type": "markdown",
   "id": "06385558-97c4-418b-a694-16b77b07f21b",
   "metadata": {},
   "source": [
    "## IQR\n",
    "1. Sort the Data\n",
    "2. Calculate Q1(25%) and Q3(73)\n",
    "3. IQR(Q3-Q1)\n",
    "4. Find LowerFence(Q1-1.5(IQR)) and HigherFence(Q3+1.5(IQR))"
   ]
  },
  {
   "cell_type": "code",
   "execution_count": 93,
   "id": "09cdae6a-db18-4ffe-a3ca-0294ad3e6a80",
   "metadata": {},
   "outputs": [],
   "source": [
    "# Efficient way IQR\n",
    "def detect_IQR_outliers(data):\n",
    "    sort_data=sorted(data) #sort data\n",
    "    q1,q3=np.percentile(data,[25,75]) #find q1 and q2 Quadirent\n",
    "    iqr=q3-q1 # find IQR\n",
    "    lowerFence=q1-(1.5*iqr) #lower Fence\n",
    "    higherFence=q3+(1.5*iqr) #Higher Fence\n",
    "\n",
    "    outliers=[];\n",
    "    for i in data:\n",
    "        if (i<lowerFence or i>higherFence):\n",
    "            outliers.append(i)\n",
    "            \n",
    "    return outliers"
   ]
  },
  {
   "cell_type": "code",
   "execution_count": 94,
   "id": "8586d074-a44d-42fd-ad0b-0632e57571b2",
   "metadata": {},
   "outputs": [
    {
     "data": {
      "text/plain": [
       "[102, 19, 107, 108]"
      ]
     },
     "execution_count": 94,
     "metadata": {},
     "output_type": "execute_result"
    }
   ],
   "source": [
    "detect_IQR_outliers(dataset)"
   ]
  },
  {
   "cell_type": "code",
   "execution_count": 96,
   "id": "f0bdf8e1-5151-40e7-bb25-ea92f4c8e3e6",
   "metadata": {},
   "outputs": [
    {
     "data": {
      "text/plain": [
       "<Axes: >"
      ]
     },
     "execution_count": 96,
     "metadata": {},
     "output_type": "execute_result"
    },
    {
     "data": {
      "image/png": "[encoded data removed]",
      "text/plain": [
       "<Figure size 640x480 with 1 Axes>"
      ]
     },
     "metadata": {},
     "output_type": "display_data"
    }
   ],
   "source": [
    "# Simple Way to plot a graph of outliers without outliers\n",
    "import seaborn\n",
    "seaborn.boxplot(dataset)"
   ]
  }
 ],
 "metadata": {
  "kernelspec": {
   "display_name": "Python 3 (ipykernel)",
   "language": "python",
   "name": "python3"
  },
  "language_info": {
   "codemirror_mode": {
    "name": "ipython",
    "version": 3
   },
   "file_extension": ".py",
   "mimetype": "text/x-python",
   "name": "python",
   "nbconvert_exporter": "python",
   "pygments_lexer": "ipython3",
   "version": "3.12.2"
  }
 },
 "nbformat": 4,
 "nbformat_minor": 5
}
