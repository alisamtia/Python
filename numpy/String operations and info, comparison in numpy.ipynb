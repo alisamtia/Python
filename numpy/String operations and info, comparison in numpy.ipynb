{
 "cells": [
  {
   "cell_type": "code",
   "execution_count": 23,
   "id": "f2c0bea5",
   "metadata": {},
   "outputs": [],
   "source": [
    "import numpy as np"
   ]
  },
  {
   "cell_type": "code",
   "execution_count": 24,
   "id": "34056fd6",
   "metadata": {},
   "outputs": [],
   "source": [
    "st_name=\"Muhammad Ali\"\n",
    "str1=\"Learning AI, Python and Machine Learning\""
   ]
  },
  {
   "cell_type": "code",
   "execution_count": 25,
   "id": "979090d5",
   "metadata": {},
   "outputs": [
    {
     "data": {
      "text/plain": [
       "array('Muhammad AliLearning AI, Python and Machine Learning', dtype='<U52')"
      ]
     },
     "execution_count": 25,
     "metadata": {},
     "output_type": "execute_result"
    }
   ],
   "source": [
    "# String concatination\n",
    "np.char.add(st_name,str1)"
   ]
  },
  {
   "cell_type": "code",
   "execution_count": 26,
   "id": "dae51e59",
   "metadata": {},
   "outputs": [
    {
     "data": {
      "text/plain": [
       "array('muhammad ali', dtype='<U12')"
      ]
     },
     "execution_count": 26,
     "metadata": {},
     "output_type": "execute_result"
    }
   ],
   "source": [
    "# convert a str to lower characters\n",
    "np.char.lower(st_name)"
   ]
  },
  {
   "cell_type": "code",
   "execution_count": 27,
   "id": "2ab1e94d",
   "metadata": {},
   "outputs": [
    {
     "data": {
      "text/plain": [
       "array('MUHAMMAD ALI', dtype='<U12')"
      ]
     },
     "execution_count": 27,
     "metadata": {},
     "output_type": "execute_result"
    }
   ],
   "source": [
    "# convert to upper\n",
    "np.char.upper(st_name)"
   ]
  },
  {
   "cell_type": "code",
   "execution_count": 28,
   "id": "dce8b257",
   "metadata": {},
   "outputs": [
    {
     "data": {
      "text/plain": [
       "array('          Learning AI, Python and Machine Learning          ',\n",
       "      dtype='<U60')"
      ]
     },
     "execution_count": 28,
     "metadata": {},
     "output_type": "execute_result"
    }
   ],
   "source": [
    "np.char.center(str1,60)"
   ]
  },
  {
   "cell_type": "code",
   "execution_count": 29,
   "id": "5fa3eac6",
   "metadata": {},
   "outputs": [
    {
     "data": {
      "text/plain": [
       "array('**********Learning AI, Python and Machine Learning**********',\n",
       "      dtype='<U60')"
      ]
     },
     "execution_count": 29,
     "metadata": {},
     "output_type": "execute_result"
    }
   ],
   "source": [
    "np.char.center(str1,60,fillchar=\"*\")"
   ]
  },
  {
   "cell_type": "code",
   "execution_count": 30,
   "id": "99cc4012",
   "metadata": {},
   "outputs": [
    {
     "data": {
      "text/plain": [
       "array(list(['Muhammad', 'Ali']), dtype=object)"
      ]
     },
     "execution_count": 30,
     "metadata": {},
     "output_type": "execute_result"
    }
   ],
   "source": [
    "# Split with spaces\n",
    "np.char.split(st_name)"
   ]
  },
  {
   "cell_type": "code",
   "execution_count": 31,
   "id": "25840569",
   "metadata": {},
   "outputs": [
    {
     "data": {
      "text/plain": [
       "array(list(['hello', 'Ali']), dtype=object)"
      ]
     },
     "execution_count": 31,
     "metadata": {},
     "output_type": "execute_result"
    }
   ],
   "source": [
    "# split with new lines\n",
    "np.char.splitlines(\"hello\\nAli\")"
   ]
  },
  {
   "cell_type": "code",
   "execution_count": 32,
   "id": "3f2a628a",
   "metadata": {},
   "outputs": [
    {
     "data": {
      "text/plain": [
       "array(['d:m:y', 'd/m/y'], dtype='<U5')"
      ]
     },
     "execution_count": 32,
     "metadata": {},
     "output_type": "execute_result"
    }
   ],
   "source": [
    "# Join a string with particular items\n",
    "str_1=\"dmy\"\n",
    "str_2=\"dmy\"\n",
    "np.char.join([\":\",\"/\"],[str_1,str_2])"
   ]
  },
  {
   "cell_type": "code",
   "execution_count": 33,
   "id": "25a5fadf",
   "metadata": {},
   "outputs": [
    {
     "data": {
      "text/plain": [
       "array('Learning Atrifical Intelligence, Python and Machine Learning',\n",
       "      dtype='<U60')"
      ]
     },
     "execution_count": 33,
     "metadata": {},
     "output_type": "execute_result"
    }
   ],
   "source": [
    "# Replace a string characters with particular characters\n",
    "np.char.replace(str1,\"AI\",\"Atrifical Intelligence\")"
   ]
  },
  {
   "cell_type": "code",
   "execution_count": 34,
   "id": "363991d0",
   "metadata": {},
   "outputs": [
    {
     "data": {
      "text/plain": [
       "array(True)"
      ]
     },
     "execution_count": 34,
     "metadata": {},
     "output_type": "execute_result"
    }
   ],
   "source": [
    "# check str is equal or not / string comparison\n",
    "np.char.equal(str_1,str_2)"
   ]
  },
  {
   "cell_type": "code",
   "execution_count": 35,
   "id": "941fa64a",
   "metadata": {},
   "outputs": [
    {
     "data": {
      "text/plain": [
       "array(4)"
      ]
     },
     "execution_count": 35,
     "metadata": {},
     "output_type": "execute_result"
    }
   ],
   "source": [
    "np.char.count(str1,\"a\")"
   ]
  },
  {
   "cell_type": "code",
   "execution_count": 42,
   "id": "da40d081",
   "metadata": {},
   "outputs": [
    {
     "data": {
      "text/plain": [
       "array(2)"
      ]
     },
     "execution_count": 42,
     "metadata": {},
     "output_type": "execute_result"
    }
   ],
   "source": [
    "np.char.find(str1,\"a\")"
   ]
  }
 ],
 "metadata": {
  "kernelspec": {
   "display_name": "Python 3 (ipykernel)",
   "language": "python",
   "name": "python3"
  },
  "language_info": {
   "codemirror_mode": {
    "name": "ipython",
    "version": 3
   },
   "file_extension": ".py",
   "mimetype": "text/x-python",
   "name": "python",
   "nbconvert_exporter": "python",
   "pygments_lexer": "ipython3",
   "version": "3.11.3"
  }
 },
 "nbformat": 4,
 "nbformat_minor": 5
}
