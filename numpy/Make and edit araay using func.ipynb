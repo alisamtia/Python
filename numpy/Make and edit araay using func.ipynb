{
 "cells": [
  {
   "cell_type": "markdown",
   "id": "d73c7235",
   "metadata": {},
   "source": [
    "# NumPy Functions : "
   ]
  },
  {
   "cell_type": "code",
   "execution_count": 2,
   "id": "597e6319",
   "metadata": {},
   "outputs": [],
   "source": [
    "import numpy as np"
   ]
  },
  {
   "cell_type": "markdown",
   "id": "d5a6bbe2",
   "metadata": {},
   "source": [
    "# Arange()"
   ]
  },
  {
   "cell_type": "code",
   "execution_count": 3,
   "id": "2af9fa2b",
   "metadata": {},
   "outputs": [
    {
     "name": "stdout",
     "output_type": "stream",
     "text": [
      "[ 1  2  3  4  5  6  7  8  9 10 11 12]\n"
     ]
    }
   ],
   "source": [
    "# np.arange(start,end,steps)\n",
    "array_1d=np.arange(1,13)\n",
    "print(array_1d)"
   ]
  },
  {
   "cell_type": "code",
   "execution_count": 4,
   "id": "84074d7f",
   "metadata": {},
   "outputs": [
    {
     "name": "stdout",
     "output_type": "stream",
     "text": [
      "[ 1  3  5  7  9 11]\n"
     ]
    }
   ],
   "source": [
    "array_even=np.arange(1,13,2)\n",
    "print(array_even)"
   ]
  },
  {
   "cell_type": "markdown",
   "id": "2002162d",
   "metadata": {},
   "source": [
    "# linspace()"
   ]
  },
  {
   "cell_type": "code",
   "execution_count": 5,
   "id": "6cfde1a3",
   "metadata": {},
   "outputs": [
    {
     "data": {
      "text/plain": [
       "array([1.        , 2.33333333, 3.66666667, 5.        ])"
      ]
     },
     "execution_count": 5,
     "metadata": {},
     "output_type": "execute_result"
    }
   ],
   "source": [
    "np.linspace(1,5,4)"
   ]
  },
  {
   "cell_type": "markdown",
   "id": "a2a49421",
   "metadata": {},
   "source": [
    "# Reshape()"
   ]
  },
  {
   "cell_type": "code",
   "execution_count": 6,
   "id": "13be57e4",
   "metadata": {},
   "outputs": [
    {
     "name": "stdout",
     "output_type": "stream",
     "text": [
      "[[ 1  2  3  4  5  6]\n",
      " [ 7  8  9 10 11 12]]\n"
     ]
    }
   ],
   "source": [
    "ar_2d=array_1d.reshape(2,6)\n",
    "print(ar_2d)"
   ]
  },
  {
   "cell_type": "code",
   "execution_count": 7,
   "id": "bdb1d4a8",
   "metadata": {},
   "outputs": [
    {
     "name": "stdout",
     "output_type": "stream",
     "text": [
      "[[[ 1  2]\n",
      "  [ 3  4]\n",
      "  [ 5  6]]\n",
      "\n",
      " [[ 7  8]\n",
      "  [ 9 10]\n",
      "  [11 12]]]\n"
     ]
    }
   ],
   "source": [
    "ar_3d=array_1d.reshape(2,3,2)\n",
    "print(ar_3d)"
   ]
  },
  {
   "cell_type": "markdown",
   "id": "ae983683",
   "metadata": {},
   "source": [
    "# ravel()"
   ]
  },
  {
   "cell_type": "code",
   "execution_count": 8,
   "id": "6d9f4a55",
   "metadata": {},
   "outputs": [
    {
     "data": {
      "text/plain": [
       "array([ 1,  2,  3,  4,  5,  6,  7,  8,  9, 10, 11, 12])"
      ]
     },
     "execution_count": 8,
     "metadata": {},
     "output_type": "execute_result"
    }
   ],
   "source": [
    "ar_3d.ravel()"
   ]
  },
  {
   "cell_type": "markdown",
   "id": "9dc2f6ca",
   "metadata": {},
   "source": [
    "# flatten"
   ]
  },
  {
   "cell_type": "code",
   "execution_count": 9,
   "id": "5884b3cb",
   "metadata": {},
   "outputs": [
    {
     "data": {
      "text/plain": [
       "array([ 1,  2,  3,  4,  5,  6,  7,  8,  9, 10, 11, 12])"
      ]
     },
     "execution_count": 9,
     "metadata": {},
     "output_type": "execute_result"
    }
   ],
   "source": [
    "ar_3d.flatten()"
   ]
  },
  {
   "cell_type": "markdown",
   "id": "564f574c",
   "metadata": {},
   "source": [
    "# Transpose"
   ]
  },
  {
   "cell_type": "code",
   "execution_count": 11,
   "id": "517ae374",
   "metadata": {},
   "outputs": [
    {
     "data": {
      "text/plain": [
       "array([[[ 1,  7],\n",
       "        [ 3,  9],\n",
       "        [ 5, 11]],\n",
       "\n",
       "       [[ 2,  8],\n",
       "        [ 4, 10],\n",
       "        [ 6, 12]]])"
      ]
     },
     "execution_count": 11,
     "metadata": {},
     "output_type": "execute_result"
    }
   ],
   "source": [
    "ar_3d.transpose()\n",
    "ar_3d.T"
   ]
  },
  {
   "cell_type": "code",
   "execution_count": null,
   "id": "d8443d5f",
   "metadata": {},
   "outputs": [],
   "source": []
  }
 ],
 "metadata": {
  "kernelspec": {
   "display_name": "Python 3 (ipykernel)",
   "language": "python",
   "name": "python3"
  },
  "language_info": {
   "codemirror_mode": {
    "name": "ipython",
    "version": 3
   },
   "file_extension": ".py",
   "mimetype": "text/x-python",
   "name": "python",
   "nbconvert_exporter": "python",
   "pygments_lexer": "ipython3",
   "version": "3.11.3"
  }
 },
 "nbformat": 4,
 "nbformat_minor": 5
}
