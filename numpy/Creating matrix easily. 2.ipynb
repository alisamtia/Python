{
 "cells": [
  {
   "cell_type": "code",
   "execution_count": 2,
   "id": "28e7a90d",
   "metadata": {},
   "outputs": [],
   "source": [
    "import numpy as np"
   ]
  },
  {
   "cell_type": "code",
   "execution_count": 3,
   "id": "fcd593f1",
   "metadata": {},
   "outputs": [
    {
     "name": "stdout",
     "output_type": "stream",
     "text": [
      "[[1 1 1]\n",
      " [1 1 1]\n",
      " [1 1 1]]\n"
     ]
    }
   ],
   "source": [
    "mx_1s=np.array([[1,1,1],[1,1,1],[1,1,1]])\n",
    "print(mx_1s)"
   ]
  },
  {
   "cell_type": "code",
   "execution_count": 5,
   "id": "424cd1d1",
   "metadata": {},
   "outputs": [
    {
     "name": "stdout",
     "output_type": "stream",
     "text": [
      "[1. 1. 1. 1. 1.]\n"
     ]
    }
   ],
   "source": [
    "mx_1s=np.ones(5)\n",
    "print(mx_1s)"
   ]
  },
  {
   "cell_type": "code",
   "execution_count": 6,
   "id": "40351adc",
   "metadata": {},
   "outputs": [
    {
     "data": {
      "text/plain": [
       "dtype('float64')"
      ]
     },
     "execution_count": 6,
     "metadata": {},
     "output_type": "execute_result"
    }
   ],
   "source": [
    "mx_1s.dtype"
   ]
  },
  {
   "cell_type": "code",
   "execution_count": 11,
   "id": "2c333f9c",
   "metadata": {},
   "outputs": [
    {
     "name": "stdout",
     "output_type": "stream",
     "text": [
      "[[1. 1. 1. 1.]\n",
      " [1. 1. 1. 1.]\n",
      " [1. 1. 1. 1.]]\n"
     ]
    }
   ],
   "source": [
    "mx_1s=np.ones((3,4))\n",
    "print(mx_1s)"
   ]
  },
  {
   "cell_type": "code",
   "execution_count": 12,
   "id": "fa0a417c",
   "metadata": {},
   "outputs": [
    {
     "name": "stdout",
     "output_type": "stream",
     "text": [
      "[[1 1 1 1]\n",
      " [1 1 1 1]\n",
      " [1 1 1 1]]\n"
     ]
    }
   ],
   "source": [
    "mx_1s=np.ones((3,4),dtype=int)\n",
    "print(mx_1s)"
   ]
  },
  {
   "cell_type": "code",
   "execution_count": 18,
   "id": "febb3d2f",
   "metadata": {},
   "outputs": [
    {
     "name": "stdout",
     "output_type": "stream",
     "text": [
      "[[0. 0. 0. 0. 0. 0.]\n",
      " [0. 0. 0. 0. 0. 0.]\n",
      " [0. 0. 0. 0. 0. 0.]\n",
      " [0. 0. 0. 0. 0. 0.]]\n"
     ]
    }
   ],
   "source": [
    "mx_0s=np.zeros((4,6))\n",
    "print(mx_0s)"
   ]
  },
  {
   "cell_type": "code",
   "execution_count": 19,
   "id": "b28a37b4",
   "metadata": {},
   "outputs": [
    {
     "name": "stdout",
     "output_type": "stream",
     "text": [
      "[[False False False False False False]\n",
      " [False False False False False False]\n",
      " [False False False False False False]\n",
      " [False False False False False False]]\n"
     ]
    }
   ],
   "source": [
    "mx_0s=np.zeros((4,6),dtype=bool)\n",
    "print(mx_0s)"
   ]
  },
  {
   "cell_type": "code",
   "execution_count": 20,
   "id": "0fc5385b",
   "metadata": {},
   "outputs": [
    {
     "name": "stdout",
     "output_type": "stream",
     "text": [
      "[['' '' '' '' '' '']\n",
      " ['' '' '' '' '' '']\n",
      " ['' '' '' '' '' '']\n",
      " ['' '' '' '' '' '']]\n"
     ]
    }
   ],
   "source": [
    "mx_0s=np.zeros((4,6),dtype=str)\n",
    "print(mx_0s)"
   ]
  },
  {
   "cell_type": "code",
   "execution_count": 22,
   "id": "0ff40a22",
   "metadata": {},
   "outputs": [
    {
     "name": "stdout",
     "output_type": "stream",
     "text": [
      "False\n"
     ]
    }
   ],
   "source": [
    "empty_str=\"\"\n",
    "print(bool(empty_str))"
   ]
  },
  {
   "cell_type": "code",
   "execution_count": 23,
   "id": "bb504540",
   "metadata": {},
   "outputs": [
    {
     "name": "stdout",
     "output_type": "stream",
     "text": [
      "[[5.e-324 5.e-324 5.e-324]\n",
      " [5.e-324 5.e-324 5.e-324]\n",
      " [5.e-324 5.e-324 5.e-324]]\n"
     ]
    }
   ],
   "source": [
    "# Radom array\n",
    "empty_mx=np.empty((3,3))\n",
    "print(empty_mx)"
   ]
  }
 ],
 "metadata": {
  "kernelspec": {
   "display_name": "Python 3 (ipykernel)",
   "language": "python",
   "name": "python3"
  },
  "language_info": {
   "codemirror_mode": {
    "name": "ipython",
    "version": 3
   },
   "file_extension": ".py",
   "mimetype": "text/x-python",
   "name": "python",
   "nbconvert_exporter": "python",
   "pygments_lexer": "ipython3",
   "version": "3.11.2"
  }
 },
 "nbformat": 4,
 "nbformat_minor": 5
}
